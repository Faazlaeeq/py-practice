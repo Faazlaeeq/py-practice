{
 "cells": [
  {
   "cell_type": "markdown",
   "metadata": {},
   "source": [
    "# Exception Handling Question\n",
    "\n",
    "Write a program that performs the following:\n",
    "1. Accept two numbers from the user.\n",
    "2. Attempt to divide the first number by the second.\n",
    "\n",
    "Handle the following cases:\n",
    "- **ZeroDivisionError**: When the second number is zero, display a message like “Division by zero is not allowed.”\n",
    "- **ValueError**: When the user inputs a non-numeric value, display a message like “Invalid input. Please enter numeric values.”\n",
    "- **Else Block**: If no exceptions occur, print the result of the division.\n",
    "- **Finally Block**: Always display a message like “Program execution completed.”"
   ]
  },
  {
   "cell_type": "code",
   "execution_count": 4,
   "metadata": {},
   "outputs": [
    {
     "name": "stdout",
     "output_type": "stream",
     "text": [
      "Please enter a valid number\n",
      "Program Execution Completed\n"
     ]
    }
   ],
   "source": [
    "try:\n",
    "    # convert user input to integer for number1\n",
    "    number1 = int(input(\"Enter number 1: \"))\n",
    "    #  convert user input to integer for number2\n",
    "    number2 = int(input(\"Enter number 2: \"))\n",
    "    #  divide number1 by number2\n",
    "    result = number1 / number2\n",
    "except ZeroDivisionError:\n",
    "    # check division by zero error\n",
    "    print(\"Can't divide any number by Zero\")\n",
    "except ValueError:\n",
    "    # Handling invalid input error\n",
    "    print(\"Please enter a valid number\")\n",
    "else:\n",
    "    # If no exceptions occur, print the result of the division\n",
    "    print(f\"{number1}/{number2} = {result}\")\n",
    "finally:\n",
    "    # Always displaying a message to indicate program execution is completed\n",
    "    print(\"Program Execution Completed\")\n"
   ]
  },
  {
   "cell_type": "markdown",
   "metadata": {},
   "source": [
    "Implement a lambda function to check if a string starts with a given letter (e.g., ‘A’). Use it with a list of strings."
   ]
  },
  {
   "cell_type": "code",
   "execution_count": 6,
   "metadata": {},
   "outputs": [
    {
     "name": "stdout",
     "output_type": "stream",
     "text": [
      "False\n"
     ]
    }
   ],
   "source": [
    "print((lambda letter,string: string[0]==letter)('k','ali')) #Using a lambda function here to check if first letter of string is given letter in one line\n"
   ]
  },
  {
   "cell_type": "code",
   "execution_count": 52,
   "metadata": {},
   "outputs": [
    {
     "name": "stdout",
     "output_type": "stream",
     "text": [
      "Ali\n",
      "Ahmed\n"
     ]
    }
   ],
   "source": [
    "checkFirstLetter= lambda string,letter: (string[0].lower()==letter.lower())#yahan lambda function check kar raha hai kay string ka first letter given letter say match kar raha hai ya nahi, .lower lowercase mein convert karnay kayliye use hua hai\n",
    "data=[\"Ali\",\"Ahmed\",\"Faaz\",\"Laeeq\",\"Rehman\",\"Iman\"]# list of strings\n",
    "def searchInList(list,start):#defination of function\n",
    "    for item in list:#loop through list\n",
    "        if(checkFirstLetter(item,start)):#lambda function ko karay search kya\n",
    "            print(item)#agar true aya to print kardo item\n",
    "\n",
    "searchInList(data,\"A\")#calling function"
   ]
  },
  {
   "cell_type": "code",
   "execution_count": null,
   "metadata": {},
   "outputs": [],
   "source": []
  },
  {
   "cell_type": "code",
   "execution_count": 56,
   "metadata": {},
   "outputs": [
    {
     "name": "stdout",
     "output_type": "stream",
     "text": [
      "10/5=2.0\n",
      "20/5=4.0\n",
      "30/5=6.0\n",
      "0/5=0.0\n",
      "50/5=10.0\n",
      "\n",
      "Can't Divide 10 by 0,division by zero\n",
      "Can't Divide 20 by 0,division by zero\n",
      "Can't Divide 30 by 0,division by zero\n",
      "Can't Divide 0 by 0,division by zero\n",
      "Can't Divide 50 by 0,division by zero\n",
      "\n",
      "Divisor must be a number\n",
      "\n",
      "10/5=2.0\n",
      "20/5=4.0\n",
      "Can't Divide 30 by 5,unsupported operand type(s) for /: 'str' and 'int'\n",
      "0/5=0.0\n",
      "50/5=10.0\n",
      "\n"
     ]
    }
   ],
   "source": [
    "def process_number(numbers, divisor):  # Function define kiya numbers aur divisor ko process karne kay liye\n",
    "\n",
    "    try:\n",
    "        if (type(divisor) is not int and type(divisor) is not float):  # Check kar raha hai divisor number hai ya nahi\n",
    "            raise Exception(\"Divisor must be a number\")  # Agar nahi hai to exception throw kara hai\n",
    "        for num in numbers:  # List mein har number ko process karne ke liye loop\n",
    "            try:\n",
    "                result = num / divisor  # Number ko divisor se divide kara hai\n",
    "            except Exception as ex:  # Agar koi exception aayi to handle kar lega\n",
    "                print(f\"Can't Divide {num} by {divisor}, {ex}\")  # Exception ka message print kara hai\n",
    "            else:  # Agar koi exception nahi aayi\n",
    "                print(f\"{num}/{divisor}={result}\")  # Result print\n",
    "\n",
    "    except ZeroDivisionError:  # Agar divisor zero ho to ye run karega\n",
    "        print(\"Can't divide by zero\")  # Message print karega\n",
    "    except Exception as ex:  # Agar koi aur error aayi\n",
    "        print(ex)  # Error ka message print karega\n",
    "    finally:  # Ye block hamesha chalega, chahe koi error ho ya na ho\n",
    "        print()  # Completion ka message de raha hai\n",
    "\n",
    "\n",
    "# Function ko call kar raha hai aur alag-alag cases test kar raha hai\n",
    "process_number([10, 20, 30, 0, 50], 5)  # Divisor number hai, sab theek chalega\n",
    "process_number([10, 20, 30, 0, 50], 0)  # Divisor zero hai, ZeroDivisionError handle karega\n",
    "process_number([10, 20, 30, 0, 50], \"0\")  # Divisor string hai, custom exception handle karega\n",
    "process_number([10, 20, \"30\", 0, 50], 5)  # List mein ek string hai, runtime error handle karega\n"
   ]
  },
  {
   "cell_type": "code",
   "execution_count": 54,
   "metadata": {},
   "outputs": [
    {
     "name": "stdout",
     "output_type": "stream",
     "text": [
      "True\n"
     ]
    }
   ],
   "source": [
    "a=3.0\n",
    "print(type(a) is not type(float))"
   ]
  },
  {
   "cell_type": "code",
   "execution_count": null,
   "metadata": {},
   "outputs": [],
   "source": []
  }
 ],
 "metadata": {
  "kernelspec": {
   "display_name": "Python 3",
   "language": "python",
   "name": "python3"
  },
  "language_info": {
   "codemirror_mode": {
    "name": "ipython",
    "version": 3
   },
   "file_extension": ".py",
   "mimetype": "text/x-python",
   "name": "python",
   "nbconvert_exporter": "python",
   "pygments_lexer": "ipython3",
   "version": "3.12.6"
  }
 },
 "nbformat": 4,
 "nbformat_minor": 2
}
